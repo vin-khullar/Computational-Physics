{
 "cells": [
  {
   "cell_type": "code",
   "execution_count": 1,
   "metadata": {
    "collapsed": false
   },
   "outputs": [],
   "source": [
    "%matplotlib inline\n",
    "import matplotlib.pyplot as plt\n",
    "#import spicy as sp\n",
    "import pandas as pd\n",
    "import sklearn\n",
    "#import MrJob\n",
    "import numpy as np\n",
    "import pandas as pd\n",
    "import requests\n",
    "import io\n",
    "import zipfile\n",
    "import scipy.stats\n",
    "from matplotlib import rcParams\n",
    "#from pattern import web\n",
    "from fnmatch import fnmatch\n",
    "from math import *"
   ]
  },
  {
   "cell_type": "code",
   "execution_count": 18,
   "metadata": {
    "collapsed": false
   },
   "outputs": [
    {
     "data": {
      "text/plain": [
       "[100, 121, 144, 169, 196, 225, 256, 289, 324, 361, 400]"
      ]
     },
     "execution_count": 18,
     "metadata": {},
     "output_type": "execute_result"
    }
   ],
   "source": [
    "#Q0\n",
    "S=[x**2 for x in range(10,21)]\n",
    "S"
   ]
  },
  {
   "cell_type": "code",
   "execution_count": 15,
   "metadata": {
    "collapsed": false
   },
   "outputs": [
    {
     "name": "stdout",
     "output_type": "stream",
     "text": [
      "No. of terms- 10\n",
      "0\n",
      "-1\n",
      "-1\n",
      "-2\n",
      "-3\n",
      "-5\n",
      "-8\n",
      "-13\n",
      "-21\n",
      "-34\n"
     ]
    }
   ],
   "source": [
    "#Q1\n",
    "# Don't know Why its -ve and how to correct it\n",
    "def fibo_seq(n):\n",
    "    if n<1:\n",
    "        return n\n",
    "    else:\n",
    "        return(fibo_seq(n-1)+fibo_seq(n-2))\n",
    "nterms=input('No. of terms- ')\n",
    "for i in range(nterms):\n",
    "    print fibo_seq(i)"
   ]
  },
  {
   "cell_type": "code",
   "execution_count": 43,
   "metadata": {
    "collapsed": false,
    "scrolled": true
   },
   "outputs": [
    {
     "name": "stdout",
     "output_type": "stream",
     "text": [
      "Initial height is 50\n",
      "Initial velocity is 100\n",
      "position of particle at 1.0 sec is 145 m.\n",
      "position of particle at 6.2 sec is 481 m.\n",
      "position of particle at 11.4 sec is 553 m.\n",
      "position of particle at 16.6 sec is 362 m.\n",
      "position of particle at 21.7 sec is -91 m.\n",
      "position of particle at 26.9 sec is -808 m.\n",
      "position of particle at 32.1 sec is -1789 m.\n",
      "position of particle at 37.3 sec is -3033 m.\n",
      "position of particle at 42.5 sec is -4540 m.\n",
      "position of particle at 47.7 sec is -6311 m.\n",
      "position of particle at 52.8 sec is -8345 m.\n",
      "position of particle at 58.0 sec is -10643 m.\n",
      "position of particle at 63.2 sec is -13203 m.\n",
      "position of particle at 68.4 sec is -16027 m.\n",
      "position of particle at 73.6 sec is -19115 m.\n",
      "position of particle at 78.8 sec is -22466 m.\n",
      "position of particle at 83.9 sec is -26080 m.\n",
      "position of particle at 89.1 sec is -29957 m.\n",
      "position of particle at 94.3 sec is -34098 m.\n",
      "position of particle at 99.5 sec is -38502 m.\n",
      "position of particle at 104.7 sec is -43169 m.\n",
      "position of particle at 109.9 sec is -48100 m.\n",
      "position of particle at 115.0 sec is -53294 m.\n",
      "position of particle at 120.2 sec is -58751 m.\n",
      "position of particle at 125.4 sec is -64472 m.\n",
      "position of particle at 130.6 sec is -70456 m.\n",
      "position of particle at 135.8 sec is -76703 m.\n",
      "position of particle at 141.0 sec is -83214 m.\n",
      "position of particle at 146.1 sec is -89988 m.\n",
      "position of particle at 151.3 sec is -97025 m.\n",
      "position of particle at 156.5 sec is -104326 m.\n",
      "position of particle at 161.7 sec is -111890 m.\n",
      "position of particle at 166.9 sec is -119718 m.\n",
      "position of particle at 172.1 sec is -127808 m.\n",
      "position of particle at 177.2 sec is -136162 m.\n",
      "position of particle at 182.4 sec is -144780 m.\n",
      "position of particle at 187.6 sec is -153660 m.\n",
      "position of particle at 192.8 sec is -162804 m.\n",
      "position of particle at 198.0 sec is -172212 m.\n",
      "position of particle at 203.2 sec is -181882 m.\n",
      "position of particle at 208.3 sec is -191816 m.\n",
      "position of particle at 213.5 sec is -202014 m.\n",
      "position of particle at 218.7 sec is -212474 m.\n",
      "position of particle at 223.9 sec is -223198 m.\n",
      "position of particle at 229.1 sec is -234185 m.\n",
      "position of particle at 234.3 sec is -245436 m.\n",
      "position of particle at 239.4 sec is -256950 m.\n",
      "position of particle at 244.6 sec is -268727 m.\n",
      "position of particle at 249.8 sec is -280768 m.\n",
      "position of particle at 255.0 sec is -293072 m.\n"
     ]
    }
   ],
   "source": [
    "#Q2\n",
    "Yi=input('Initial height is ')\n",
    "Vi=input('Initial velocity is ')\n",
    "g=9.8\n",
    "for t in np.linspace(1,255,50):\n",
    "    Yt=Yi+Vi*t-0.5*g*t**2\n",
    "    t=round(t,1)\n",
    "    print 'position of particle at %s sec is %d m.' %(t, Yt)"
   ]
  },
  {
   "cell_type": "code",
   "execution_count": 128,
   "metadata": {
    "collapsed": false
   },
   "outputs": [
    {
     "name": "stdout",
     "output_type": "stream",
     "text": [
      "Energy is 9.0 times E0.\n"
     ]
    }
   ],
   "source": [
    "#Q3\n",
    "L1=10.0 #10.0 because of integer truncation, else it gives E=0\n",
    "L2=L1\n",
    "L3=L1\n",
    "Egstate=((hbar**2)*(3.14**2))/2*L1**1\n",
    "hbar=1e-34\n",
    "ntuple=[]\n",
    "def Pin3Dbox(ntuple):\n",
    "    E=(((hbar**2)*(3.14**2))/2)*(((ntuple[0]/L1)**2)+((ntuple[1]/L2)**2)+((ntuple[2]/L3)**2))\n",
    "    return E\n",
    "X=Pin3Dbox([1,2,2])\n",
    "Y=(X/Egstate)*1000\n",
    "Y=round(Y,0)\n",
    "print 'Energy is %s times E0.'%(Y)"
   ]
  },
  {
   "cell_type": "code",
   "execution_count": 143,
   "metadata": {
    "collapsed": false
   },
   "outputs": [
    {
     "name": "stdout",
     "output_type": "stream",
     "text": [
      "[[1, 1, 1], 1.47894e-69]\n",
      "[[1, 1, 2], 2.95788e-69]\n",
      "[[1, 1, 3], 2.95788e-69]\n",
      "[[1, 1, 4], 2.95788e-69]\n",
      "[[1, 2, 1], 4.436820000000001e-69]\n",
      "[[1, 2, 2], 4.436820000000001e-69]\n",
      "[[1, 2, 3], 4.436820000000001e-69]\n",
      "[[1, 2, 4], 5.422779999999999e-69]\n",
      "[[1, 3, 1], 5.42278e-69]\n",
      "[[1, 3, 2], 5.91576e-69]\n",
      "[[1, 3, 3], 6.901720000000001e-69]\n",
      "[[1, 3, 4], 6.901720000000001e-69]\n",
      "[[1, 4, 1], 6.901720000000001e-69]\n",
      "[[1, 4, 2], 6.901720000000001e-69]\n",
      "[[1, 4, 3], 8.38066e-69]\n",
      "[[1, 4, 4], 8.38066e-69]\n",
      "[[2, 1, 1], 8.873640000000002e-69]\n",
      "[[2, 1, 2], 8.873640000000002e-69]\n",
      "[[2, 1, 3], 9.366619999999999e-69]\n",
      "[[2, 1, 4], 1.035258e-68]\n"
     ]
    }
   ],
   "source": [
    "#Q3\n",
    "# Don't know how it is picking values for ijk\n",
    "L1=L2=L3=10.0 #10.0 because of integer truncation, else it gives E=0\n",
    "hbar=1e-34\n",
    "ntuple=[]\n",
    "def Pin3Dbox(ntuple):\n",
    "    E=(((hbar**2)*(3.14**2))/2)*(((ntuple[0]/L1)**2)+((ntuple[1]/L2)**2)+((ntuple[2]/L3)**2))\n",
    "    return E\n",
    "\n",
    "# finds all j and k for each i and so on...\n",
    "for i in range(1,Nmax):\n",
    "    for j in range(1,Nmax):\n",
    "        for k in range(1,Nmax):\n",
    "            ntuple.append([[i,j,k],Pin3Dbox([i,j,k])])\n",
    "            \n",
    "# bubble sort comples is to sort values in increasing order\n",
    "def bubbleSortComplex(List):\n",
    "\tfor k in range(0, (len(List)/2) - 1):\t#Size of this double list is 128, but each entry of the indices can only go as far as 64.\n",
    "\t\tfor i in range(0, (len(List)/2) - 1 ):\n",
    "\t\t\ttemp = List[i][1];\t\n",
    "\t\t\tif\tList[i][1] > List[i+1][1]:\n",
    "\t\t\t\ttemp = List[i][1];\n",
    "\t\t\t\tList[i][1] = List[i+1][1];\n",
    "\t\t\t\tList[i+1][1] = temp;\n",
    "\treturn List\n",
    "\n",
    "Array=bubbleSortComplex(ntuple)\n",
    "\n",
    "for i in range(0,20):\n",
    "    print Array[i]"
   ]
  },
  {
   "cell_type": "code",
   "execution_count": 154,
   "metadata": {
    "collapsed": false
   },
   "outputs": [
    {
     "data": {
      "text/plain": [
       "<matplotlib.text.Text at 0x211aad68>"
      ]
     },
     "execution_count": 154,
     "metadata": {},
     "output_type": "execute_result"
    },
    {
     "data": {
      "image/png": "[encoded data removed]",
      "text/plain": [
       "<matplotlib.figure.Figure at 0x1f469ef0>"
      ]
     },
     "metadata": {},
     "output_type": "display_data"
    }
   ],
   "source": [
    "#Q4\n",
    "for x in np.linspace(-30,30,400):\n",
    "    y=sin(x)/x\n",
    "    plt.plot(x,y,'r^')\n",
    "plt.xlabel('X')\n",
    "plt.ylabel('Sinc(x)')\n",
    "plt.title('Cardinal Sin function')"
   ]
  },
  {
   "cell_type": "code",
   "execution_count": 159,
   "metadata": {
    "collapsed": false
   },
   "outputs": [
    {
     "data": {
      "text/plain": [
       "28"
      ]
     },
     "execution_count": 159,
     "metadata": {},
     "output_type": "execute_result"
    }
   ],
   "source": [
    "#Q5\n",
    "def triangnum(x):\n",
    "    return (x*(x+1)/2)\n",
    "triangnum(7)"
   ]
  },
  {
   "cell_type": "code",
   "execution_count": 11,
   "metadata": {
    "collapsed": false
   },
   "outputs": [
    {
     "name": "stdout",
     "output_type": "stream",
     "text": [
      "Which no you wanna test? 93\n",
      "No is prime\n"
     ]
    }
   ],
   "source": [
    "#Q6\n",
    "testno=2\n",
    "x=input('Which no you wanna test? ')\n",
    "while testno<sqrt(x):\n",
    "    if x%2==0:\n",
    "        print 'No. is not prime'\n",
    "        break\n",
    "    else:\n",
    "        x%testno !=0\n",
    "        testno=testno+1\n",
    "else:\n",
    "    print 'No is prime'"
   ]
  },
  {
   "cell_type": "code",
   "execution_count": 4,
   "metadata": {
    "collapsed": false
   },
   "outputs": [
    {
     "name": "stdout",
     "output_type": "stream",
     "text": [
      "1x1 = 1\n",
      "1x2 = 2\n",
      "1x3 = 3\n",
      "1x4 = 4\n",
      "2x1 = 2\n",
      "2x2 = 4\n",
      "2x3 = 6\n",
      "2x4 = 8\n",
      "3x1 = 3\n",
      "3x2 = 6\n",
      "3x3 = 9\n",
      "3x4 = 12\n",
      "4x1 = 4\n",
      "4x2 = 8\n",
      "4x3 = 12\n",
      "4x4 = 16\n"
     ]
    }
   ],
   "source": [
    "#Q7\n",
    "n=5#input('Dimension of the table n ')\n",
    "for x in range(1,n):\n",
    "    for y in range(1,n):\n",
    "        p=x*y\n",
    "        print str(x) + 'x' + str(y) +' = ' +str(p) "
   ]
  },
  {
   "cell_type": "code",
   "execution_count": 32,
   "metadata": {
    "collapsed": false
   },
   "outputs": [
    {
     "ename": "TypeError",
     "evalue": "'function' object has no attribute '__getitem__'",
     "output_type": "error",
     "traceback": [
      "\u001b[1;31m---------------------------------------------------------------------------\u001b[0m",
      "\u001b[1;31mTypeError\u001b[0m                                 Traceback (most recent call last)",
      "\u001b[1;32m<ipython-input-32-9d2b68128f51>\u001b[0m in \u001b[0;36m<module>\u001b[1;34m()\u001b[0m\n\u001b[0;32m     10\u001b[0m         \u001b[0my\u001b[0m\u001b[1;33m=\u001b[0m\u001b[0mDictionary\u001b[0m\u001b[1;33m[\u001b[0m\u001b[0marrayofdigits\u001b[0m\u001b[1;33m[\u001b[0m\u001b[1;36m1\u001b[0m\u001b[1;33m]\u001b[0m\u001b[1;33m]\u001b[0m\u001b[1;33m\u001b[0m\u001b[0m\n\u001b[0;32m     11\u001b[0m         \u001b[1;32mprint\u001b[0m\u001b[1;34m'%s is %s %s'\u001b[0m\u001b[1;33m%\u001b[0m\u001b[1;33m(\u001b[0m\u001b[0marrayofdigits\u001b[0m\u001b[1;33m,\u001b[0m\u001b[0mx\u001b[0m\u001b[1;33m,\u001b[0m\u001b[0my\u001b[0m\u001b[1;33m)\u001b[0m\u001b[1;33m\u001b[0m\u001b[0m\n\u001b[1;32m---> 12\u001b[1;33m \u001b[0mnumtowords\u001b[0m\u001b[1;33m[\u001b[0m\u001b[1;36m54\u001b[0m\u001b[1;33m]\u001b[0m\u001b[1;33m\u001b[0m\u001b[0m\n\u001b[0m",
      "\u001b[1;31mTypeError\u001b[0m: 'function' object has no attribute '__getitem__'"
     ]
    }
   ],
   "source": [
    "#Q7 Don't know how to resolve the issue ??\n",
    "Dictionary={0:'zero', 1:'one',2:'two',3:'three',4:'four',5:'five',6:'six',\n",
    "            7:'seven',8:'eight',9:'nine'}\n",
    "def numtowords(arrayofdigits):\n",
    "    if len(str(arrayofdigits))==1:\n",
    "        x=Dictionary[arrayofdigits]\n",
    "        print '%s is %s'%(arrayofdigits,x)\n",
    "    else:\n",
    "        #len(str(arrayofdigits))==2\n",
    "        x=Dictionary[arrayofdigits[0]]\n",
    "        y=Dictionary[arrayofdigits[1]]\n",
    "        print'%s is %s %s'%(arrayofdigits,x,y)\n",
    "numtowords[54]"
   ]
  },
  {
   "cell_type": "code",
   "execution_count": null,
   "metadata": {
    "collapsed": true
   },
   "outputs": [],
   "source": []
  }
 ],
 "metadata": {
  "kernelspec": {
   "display_name": "Python 2",
   "language": "python",
   "name": "python2"
  },
  "language_info": {
   "codemirror_mode": {
    "name": "ipython",
    "version": 2
   },
   "file_extension": ".py",
   "mimetype": "text/x-python",
   "name": "python",
   "nbconvert_exporter": "python",
   "pygments_lexer": "ipython2",
   "version": "2.7.11"
  }
 },
 "nbformat": 4,
 "nbformat_minor": 0
}
