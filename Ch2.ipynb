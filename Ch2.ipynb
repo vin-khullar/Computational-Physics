{
 "cells": [
  {
   "cell_type": "code",
   "execution_count": 1,
   "metadata": {
    "collapsed": true
   },
   "outputs": [],
   "source": [
    "%matplotlib inline\n",
    "import matplotlib.pyplot as plt\n",
    "#import spicy as sp\n",
    "import pandas as pd\n",
    "import sklearn\n",
    "#import MrJob\n",
    "import numpy as np\n",
    "import pandas as pd\n",
    "import requests\n",
    "import io\n",
    "import zipfile\n",
    "import scipy.stats\n",
    "from matplotlib import rcParams\n",
    "#from pattern import web\n",
    "from fnmatch import fnmatch\n",
    "from math import *\n",
    "from pylab import *\n",
    "from scipy.optimize import brentq\n",
    "from scipy.misc import derivative"
   ]
  },
  {
   "cell_type": "code",
   "execution_count": 4,
   "metadata": {
    "collapsed": false
   },
   "outputs": [],
   "source": [
    "# Bisection method to find roots\n",
    "def root_bisection(f,a,b,tol=1.0e-6):\n",
    "    dx=abs(b-a)\n",
    "    while dx>tol:\n",
    "        x=(a+b)/2.0\n",
    "        if (f(a)*f(b))<0:\n",
    "            b=x\n",
    "        else:\n",
    "            a=x\n",
    "        dx=abs(b-a)\n",
    "    return x"
   ]
  },
  {
   "cell_type": "code",
   "execution_count": 8,
   "metadata": {
    "collapsed": false
   },
   "outputs": [
    {
     "data": {
      "text/plain": [
       "1.57079557778084"
      ]
     },
     "execution_count": 8,
     "metadata": {},
     "output_type": "execute_result"
    }
   ],
   "source": [
    "root_bisection(cos,0,pi)"
   ]
  },
  {
   "cell_type": "code",
   "execution_count": 14,
   "metadata": {
    "collapsed": false
   },
   "outputs": [
    {
     "name": "stdout",
     "output_type": "stream",
     "text": [
      "3.14159265359 0.0\n"
     ]
    }
   ],
   "source": [
    "#inbuilt module to find roots\n",
    "x=brentq(sin,2,4)\n",
    "print x, x-pi"
   ]
  },
  {
   "cell_type": "code",
   "execution_count": 99,
   "metadata": {
    "collapsed": true
   },
   "outputs": [],
   "source": [
    "#  3 integration routines, easy to write, just look at the final formula\n",
    "#  break it into parts and write each part separately.\n",
    "def int_simple(fn,a,b,n):\n",
    "    I=0\n",
    "    dx=(b-a)/float(n)\n",
    "    for i in range(1,n):\n",
    "        x=a+dx*i\n",
    "        I=I+fn(x)*dx\n",
    "    return I\n",
    "\n",
    "def int_trapezoidal(fn,a,b,n):\n",
    "    dx=(b-a)/float(n)\n",
    "    I=0.5*(fn(a)+fn(b))\n",
    "    for i in range(1,n-1):\n",
    "        I += fn(a+i*dx)  \n",
    "    return I*dx\n",
    "# Something wrong with Simpson !!\n",
    "def int_simpson(fn,a,b,n):\n",
    "    dx=(b-a)/float(n)\n",
    "    I2=0.0;I3=0.0\n",
    "    I1=fn(a)+fn(b)\n",
    "    for i in range(1,n/2):\n",
    "        I2=4*fn(a+(2*i-1)*dx)\n",
    "    for i in range(1,(n/2)-1):\n",
    "        I3=2*fn(a+2*dx*i)\n",
    "    return 0.33*dx*(I1+I2+I3)"
   ]
  },
  {
   "cell_type": "code",
   "execution_count": 100,
   "metadata": {
    "collapsed": false
   },
   "outputs": [
    {
     "name": "stdout",
     "output_type": "stream",
     "text": [
      "0.532209676416 4.1528759328 4.261066656\n"
     ]
    }
   ],
   "source": [
    "def g(x):\n",
    "    return x**4-2*x+1\n",
    "print int_simpson(g,0,2,100),int_trapezoidal(g,0,2,100), int_simple(g,0,2,100)"
   ]
  },
  {
   "cell_type": "code",
   "execution_count": 101,
   "metadata": {
    "collapsed": false
   },
   "outputs": [
    {
     "name": "stdout",
     "output_type": "stream",
     "text": [
      "0.0068113224981 0.999732708276 0.992125456606\n"
     ]
    }
   ],
   "source": [
    "def g(x):\n",
    "    return cos(x)\n",
    "print int_simpson(g,0,pi/2,100),int_trapezoidal(g,0,pi/2,100), int_simple(g,0,pi/2,100)"
   ]
  },
  {
   "cell_type": "code",
   "execution_count": 102,
   "metadata": {
    "collapsed": false
   },
   "outputs": [
    {
     "name": "stdout",
     "output_type": "stream",
     "text": [
      "0.0112024157956 0.663367596973 0.655619747777\n"
     ]
    }
   ],
   "source": [
    "def g(x):\n",
    "    return 1/x**2\n",
    "print int_simpson(g,1,3,100),int_trapezoidal(g,1,3,100), int_simple(g,1,3,100)"
   ]
  },
  {
   "cell_type": "code",
   "execution_count": 103,
   "metadata": {
    "collapsed": false
   },
   "outputs": [
    {
     "name": "stdout",
     "output_type": "stream",
     "text": [
      "0.99281952 26.250392 26.3868\n"
     ]
    }
   ],
   "source": [
    "def g(x):\n",
    "    return x**2+x+1\n",
    "print int_simpson(g,2,4,100),int_trapezoidal(g,2,4,100), int_simple(g,2,4,100)"
   ]
  },
  {
   "cell_type": "code",
   "execution_count": 105,
   "metadata": {
    "collapsed": false
   },
   "outputs": [
    {
     "name": "stdout",
     "output_type": "stream",
     "text": [
      "0.114752237544 0.513256312585 0.415645492683\n"
     ]
    }
   ],
   "source": [
    "# Fresnel cosine integral in optics\n",
    "def g(x):\n",
    "    return cos(pi/2*x**2)\n",
    "print int_simpson(g,0,6.9,100),int_trapezoidal(g,0,6.9,100), int_simple(g,0,6.9,100)"
   ]
  },
  {
   "cell_type": "code",
   "execution_count": 132,
   "metadata": {
    "collapsed": false
   },
   "outputs": [
    {
     "name": "stdout",
     "output_type": "stream",
     "text": [
      "0.0176643490408\n"
     ]
    }
   ],
   "source": [
    "#Q6 FD didtribution: Find mu ??? egg chick problem, need mu to solve intergral \n",
    "# and solve intergral to get mu.\n",
    "def g(E):\n",
    "    return 1/(exp((E-0.000001)/0.025)+1)\n",
    "#def g(E):\n",
    "#    return E-0.025*ln((1/f)-1) \n",
    "print int_trapezoidal(g,0,2,100)\n",
    "    "
   ]
  },
  {
   "cell_type": "code",
   "execution_count": 119,
   "metadata": {
    "collapsed": false
   },
   "outputs": [
    {
     "name": "stdout",
     "output_type": "stream",
     "text": [
      "-0.998334166468\n"
     ]
    }
   ],
   "source": [
    "print derivative(sin, pi, dx=0.1)"
   ]
  },
  {
   "cell_type": "code",
   "execution_count": 23,
   "metadata": {
    "collapsed": false
   },
   "outputs": [
    {
     "data": {
      "image/png": "[encoded data removed]",
      "text/plain": [
       "<matplotlib.figure.Figure at 0x1c8ef240>"
      ]
     },
     "metadata": {},
     "output_type": "display_data"
    }
   ],
   "source": [
    "#Q7 Differential of sin vs cos\n",
    "p=[]\n",
    "diff=[]\n",
    "cs=[]\n",
    "for x in np.linspace(0,7,50):    \n",
    "    p.append(x)\n",
    "for i in range(0,49):\n",
    "    y=(sin(p[i+1])-sin(p[i]))/0.14\n",
    "    diff.append(y)\n",
    "    #plt.plot(p,diff,'r^')\n",
    "    z=cos(p[i])\n",
    "    cs.append(z)\n",
    "    plt.plot(cs,'r^')\n",
    "    plt.plot(diff,'go')"
   ]
  },
  {
   "cell_type": "code",
   "execution_count": null,
   "metadata": {
    "collapsed": true
   },
   "outputs": [],
   "source": [
    "# Q4 Solve double integral"
   ]
  }
 ],
 "metadata": {
  "kernelspec": {
   "display_name": "Python 2",
   "language": "python",
   "name": "python2"
  },
  "language_info": {
   "codemirror_mode": {
    "name": "ipython",
    "version": 2
   },
   "file_extension": ".py",
   "mimetype": "text/x-python",
   "name": "python",
   "nbconvert_exporter": "python",
   "pygments_lexer": "ipython2",
   "version": "2.7.11"
  }
 },
 "nbformat": 4,
 "nbformat_minor": 0
}
